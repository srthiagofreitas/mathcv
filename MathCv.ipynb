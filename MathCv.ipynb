{
  "nbformat": 4,
  "nbformat_minor": 0,
  "metadata": {
    "colab": {
      "name": "MathCv.ipynb",
      "provenance": [],
      "collapsed_sections": [],
      "authorship_tag": "ABX9TyOE34ecrZpaqsOQR1DDPbUz",
      "include_colab_link": true
    },
    "kernelspec": {
      "name": "python3",
      "display_name": "Python 3"
    },
    "language_info": {
      "name": "python"
    }
  },
  "cells": [
    {
      "cell_type": "markdown",
      "metadata": {
        "id": "view-in-github",
        "colab_type": "text"
      },
      "source": [
        "<a href=\"https://colab.research.google.com/github/srthiagofreitas/mathcv/blob/master/MathCv.ipynb\" target=\"_parent\"><img src=\"https://colab.research.google.com/assets/colab-badge.svg\" alt=\"Open In Colab\"/></a>"
      ]
    },
    {
      "cell_type": "markdown",
      "metadata": {
        "id": "exXJB6d7H1Lc"
      },
      "source": [
        "Importação dos cvs"
      ]
    },
    {
      "cell_type": "code",
      "metadata": {
        "id": "v1D_lGCOH33Z",
        "colab": {
          "base_uri": "https://localhost:8080/"
        },
        "outputId": "0c37880f-64e4-4606-d0dc-5fe7d9b0826e"
      },
      "source": [
        "!pip install pdfplumber\n",
        "import pdfplumber\n",
        "import nltk"
      ],
      "execution_count": 1,
      "outputs": [
        {
          "output_type": "stream",
          "text": [
            "Collecting pdfplumber\n",
            "\u001b[?25l  Downloading https://files.pythonhosted.org/packages/9d/30/528bba4a8a2dde7b7e89475a1f1d7b3ed342073a76b4e7248cdd8393f058/pdfplumber-0.5.28.tar.gz (45kB)\n",
            "\u001b[K     |████████████████████████████████| 51kB 2.7MB/s \n",
            "\u001b[?25hCollecting pdfminer.six==20200517\n",
            "\u001b[?25l  Downloading https://files.pythonhosted.org/packages/b0/c0/ef1c8758bbd86edb10b5443700aac97d0ba27a9ca2e7696db8cd1fdbd5a8/pdfminer.six-20200517-py3-none-any.whl (5.6MB)\n",
            "\u001b[K     |████████████████████████████████| 5.6MB 6.2MB/s \n",
            "\u001b[?25hRequirement already satisfied: Pillow>=7.0.0 in /usr/local/lib/python3.7/dist-packages (from pdfplumber) (7.1.2)\n",
            "Collecting Wand\n",
            "\u001b[?25l  Downloading https://files.pythonhosted.org/packages/d7/f6/05f043c099639b9017b7244791048a4d146dfea45b41a199aed373246d50/Wand-0.6.6-py2.py3-none-any.whl (138kB)\n",
            "\u001b[K     |████████████████████████████████| 143kB 39.3MB/s \n",
            "\u001b[?25hCollecting pycryptodome\n",
            "\u001b[?25l  Downloading https://files.pythonhosted.org/packages/ad/16/9627ab0493894a11c68e46000dbcc82f578c8ff06bc2980dcd016aea9bd3/pycryptodome-3.10.1-cp35-abi3-manylinux2010_x86_64.whl (1.9MB)\n",
            "\u001b[K     |████████████████████████████████| 1.9MB 40.8MB/s \n",
            "\u001b[?25hRequirement already satisfied: chardet; python_version > \"3.0\" in /usr/local/lib/python3.7/dist-packages (from pdfminer.six==20200517->pdfplumber) (3.0.4)\n",
            "Requirement already satisfied: sortedcontainers in /usr/local/lib/python3.7/dist-packages (from pdfminer.six==20200517->pdfplumber) (2.4.0)\n",
            "Building wheels for collected packages: pdfplumber\n",
            "  Building wheel for pdfplumber (setup.py) ... \u001b[?25l\u001b[?25hdone\n",
            "  Created wheel for pdfplumber: filename=pdfplumber-0.5.28-cp37-none-any.whl size=32241 sha256=0e0ebff1e09d193d813d974cc5dce98a4520ff3818e4138ddd911451bd5cd342\n",
            "  Stored in directory: /root/.cache/pip/wheels/5a/9b/3d/37e37d93650be964fdd2a9babf174214fec8a0f4d222d474ab\n",
            "Successfully built pdfplumber\n",
            "Installing collected packages: pycryptodome, pdfminer.six, Wand, pdfplumber\n",
            "Successfully installed Wand-0.6.6 pdfminer.six-20200517 pdfplumber-0.5.28 pycryptodome-3.10.1\n"
          ],
          "name": "stdout"
        }
      ]
    },
    {
      "cell_type": "markdown",
      "metadata": {
        "id": "2yJEaYu-OuWW"
      },
      "source": [
        "Ler pdfs dos cvs"
      ]
    },
    {
      "cell_type": "code",
      "metadata": {
        "colab": {
          "base_uri": "https://localhost:8080/",
          "height": 120
        },
        "id": "vGrLZ0jlPK8j",
        "outputId": "87826846-f314-4a63-b89a-f467e7e27df3"
      },
      "source": [
        "arquivoPdf = pdfplumber.open('/content/Juliana.pdf')\n",
        "\n",
        "primeira_pagina = arquivoPdf.pages[0]\n",
        "\n",
        "textoCRU = primeira_pagina.extract_text()\n",
        "textoCRU"
      ],
      "execution_count": 2,
      "outputs": [
        {
          "output_type": "execute_result",
          "data": {
            "application/vnd.google.colaboratory.intrinsic+json": {
              "type": "string"
            },
            "text/plain": [
              "'   \\n \\nJULIANA SCUDILIO  \\n \\nRODRIGUES\\n  Cientista de Dados \\n \\n  EDUCAÇÃO \\nDoutorado em Estatística - Universidade de São Paulo \\n \\n2016 – 2020 \\nPesquisadora da Capes na área Análise de Sobrevivência/ \\nPERFIL \\nConfiabilidade, projeto de pesquisa em parceria com o A.C. Camargo \\nCenter. Também coordenei um projeto de Credit Scoring com 12 \\nSou Estatística, tenho 32 anos, tenho \\nalunos para um empresa de São Carlos e fui monitora em duas \\nmestrado e doutorado  em Estatística, \\ndisciplinas.  \\ntenho artigos publicados em revistas \\n  \\ninternacionais, apresentei trabalhos \\nMestre em Estatística - Universidade de São Paulo \\nem congressos nacionais e \\n2014 - 2016 \\ninternacionais. Desenvolvi vários \\nPesquisadora da Capes na área de Modelos Preditivos. Projeto \\nprojetos e consultorias em análise de \\naplicado a fundos de Investimentos do Brasil, dados fornecido pela \\ndados durante os anos de estudos. \\nempresa Anbima. \\nTenho facilidade em aprender novas \\n \\nhabilidades e lidar com pessoas. Fiz  Bacharel em Estatística -  Universidade Federal de São Carlos \\nvários cursos onlines de Machine  2010 – 2013 \\nLearning, Big Data, Power BI e  Iniciação Científica (CNPQ) na área de Análise de \\nprogramação. Sou uma pessoa pró- Sobrevivência/Confiabilidade, projeto em parceria com o Hospital das \\nativa e busco desafios para meu  Clinícas. Trabalho de Graduação em modelos preditivos aplicados em \\ndesenvolvimento profissional. As áreas  sinistros de carros. E diversos trabalhos de análise de dados durante a \\nde especialização são Machine  graduação. Organizei a semana da Estatística e fui bolsista do \\nLearning (Supervisionado e Não  Programa de Educação Tutorial, além de dar monitorias e cursos. \\nSupervisionado), Modelos Preditivos e \\nAnálise de Sobrevivência/  EXPERIÊNCIA DE TRABALHO \\nConfiabilidade. Procuro uma \\nrecolocação no mercado, de  Sanar [Especialista em Treinamento] \\npreferência em São Paulo  Fevereiro de 2020 – Março de 2020 \\n•  Bootcamp em Data Science, desenvolvendo o time de cientista de \\nCONTATO  dados da empresa baseado em problemas reais. Foram desenvolvidos \\nconceitos de análise descritiva, visualização de dados, Business \\nTELEFONE: \\nIntelligence utilizando o Power BI e manipulação de banco de dados \\n  com SQL. \\n \\n \\nEndereço:  BLI NetImóveis [Consultora] \\n  Agosto de 2019 – Dezembro de 2019 \\n  Análise de dados dos clientes Inadimplentes, foi feita uma análise dos \\nEMAIL:  bairros com maiores riscos de inadimplência, corrigi erros na base de \\n  dados e durante a análise observei um possível investimento com o \\n  dinheiro referente aos juros pagos pelos inadimplentes que resultaria \\nCurrículo acadêmico  em um valor anual extra de R$120 mil à  R$ 240 mil  reais para \\nhttp://lattes.cnpq.br/5189010086005005  empresa. \\n \\n \\nLinkedin \\nUnijorge [Professora] \\n2018 – 2019 \\nhttps://www.linkedin.com/in/julianascudilio/  Professora convidada da pós-graduação em Estatística, ministrando \\ndisciplinas na área de Mineração de Dados, Machine Learning e \\nSKILL  Inferência Estatística. Orientação de 5 projetos, 3 projetos de Machine \\nLearning para a empresa Braskem, 1 em modelo preditivo aplicado \\nComunicação \\nem dados da Petrobras e 1 na área social do IDH da Bahia. \\nCuriosidade \\nRaciocínio Lógico \\nHABILIDADES \\nFlexível \\nLiderança \\n \\nInovação \\nSAS 60%\\nTrabalho em equipe \\nTABLEAU 60%\\n \\nSQL 65%\\n \\nPython 70%\\nInglês 70%\\nExcel 85%\\nPower BI 85%\\nR 90%'"
            ]
          },
          "metadata": {
            "tags": []
          },
          "execution_count": 2
        }
      ]
    },
    {
      "cell_type": "markdown",
      "metadata": {
        "id": "2lVdqKIYQO2t"
      },
      "source": [
        "Verificando metadata da variavel arquivoPDF"
      ]
    },
    {
      "cell_type": "code",
      "metadata": {
        "colab": {
          "base_uri": "https://localhost:8080/"
        },
        "id": "uVsJ4dZrQUWZ",
        "outputId": "00329977-e01a-444b-9d71-4b0165fdbdf7"
      },
      "source": [
        "arquivoPdf.metadata"
      ],
      "execution_count": 3,
      "outputs": [
        {
          "output_type": "execute_result",
          "data": {
            "text/plain": [
              "{'CreationDate': \"D:20210630101648-03'00'\",\n",
              " 'Creator': 'Microsoft® Word para Microsoft 365',\n",
              " 'ModDate': \"D:20210630101648-03'00'\",\n",
              " 'Producer': 'Microsoft® Word para Microsoft 365'}"
            ]
          },
          "metadata": {
            "tags": []
          },
          "execution_count": 3
        }
      ]
    },
    {
      "cell_type": "markdown",
      "metadata": {
        "id": "RdLPeK3pQvmP"
      },
      "source": [
        "Verificando hyperlinks no CV"
      ]
    },
    {
      "cell_type": "code",
      "metadata": {
        "colab": {
          "base_uri": "https://localhost:8080/"
        },
        "id": "Q0DrlHp1QzkR",
        "outputId": "db6bddf9-1ad3-4cc8-970a-fd5cd0d5d35b"
      },
      "source": [
        "arquivoPdf.hyperlinks"
      ],
      "execution_count": 4,
      "outputs": [
        {
          "output_type": "execute_result",
          "data": {
            "text/plain": [
              "[{'bottom': Decimal('596.610'),\n",
              "  'contents': None,\n",
              "  'data': {'A': {'S': /'URI',\n",
              "    'Type': /'Action',\n",
              "    'URI': b'http://lattes.cnpq.br/5189010086005005'},\n",
              "   'BS': {'W': 0},\n",
              "   'F': 4,\n",
              "   'Rect': [32.3, 245.31, 172.19, 254.36],\n",
              "   'StructParent': 1,\n",
              "   'Subtype': /'Link'},\n",
              "  'doctop': Decimal('587.560'),\n",
              "  'height': Decimal('9.050'),\n",
              "  'object_type': 'annot',\n",
              "  'page_number': 1,\n",
              "  'title': None,\n",
              "  'top': Decimal('587.560'),\n",
              "  'uri': 'http://lattes.cnpq.br/5189010086005005',\n",
              "  'width': Decimal('139.890'),\n",
              "  'x0': Decimal('32.300'),\n",
              "  'x1': Decimal('172.190'),\n",
              "  'y0': Decimal('245.310'),\n",
              "  'y1': Decimal('254.360')},\n",
              " {'bottom': Decimal('643.750'),\n",
              "  'contents': None,\n",
              "  'data': {'A': {'S': /'URI',\n",
              "    'Type': /'Action',\n",
              "    'URI': b'https://www.linkedin.com/in/julianascudilio/'},\n",
              "   'BS': {'W': 0},\n",
              "   'F': 4,\n",
              "   'Rect': [32.3, 198.17, 182.91, 225.22],\n",
              "   'StructParent': 2,\n",
              "   'Subtype': /'Link'},\n",
              "  'doctop': Decimal('616.700'),\n",
              "  'height': Decimal('27.050'),\n",
              "  'object_type': 'annot',\n",
              "  'page_number': 1,\n",
              "  'title': None,\n",
              "  'top': Decimal('616.700'),\n",
              "  'uri': 'https://www.linkedin.com/in/julianascudilio/',\n",
              "  'width': Decimal('150.610'),\n",
              "  'x0': Decimal('32.300'),\n",
              "  'x1': Decimal('182.910'),\n",
              "  'y0': Decimal('198.170'),\n",
              "  'y1': Decimal('225.220')}]"
            ]
          },
          "metadata": {
            "tags": []
          },
          "execution_count": 4
        }
      ]
    },
    {
      "cell_type": "code",
      "metadata": {
        "id": "OFb3W0mQQ1bW"
      },
      "source": [
        ""
      ],
      "execution_count": null,
      "outputs": []
    }
  ]
}